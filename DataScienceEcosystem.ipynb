{
 "cells": [
  {
   "cell_type": "markdown",
   "id": "a3233359-1f63-4cb6-9e7c-ad56293bf841",
   "metadata": {},
   "source": [
    "<h1> Data Science Tools and Ecosystem"
   ]
  },
  {
   "cell_type": "markdown",
   "id": "29b95258-4d36-4e95-9a25-3d1e852f72dd",
   "metadata": {},
   "source": [
    "In this notebook, Data Science Tools and Ecosystem are summarized."
   ]
  },
  {
   "cell_type": "markdown",
   "id": "8becfe8c-9366-47d8-bdaf-620147f4b270",
   "metadata": {},
   "source": [
    "**Objectives:**\n",
    "- To introduce Jupyternotebook interface and features\n",
    "- To familiarise with different language that data scientist uses\n",
    "- To familiarise with different libraries that data scientist uses\n",
    "- To perform arithmetic functions \n"
   ]
  },
  {
   "cell_type": "markdown",
   "id": "838df43c-96ca-4f83-808d-7d2eaebb1e96",
   "metadata": {},
   "source": [
    "Some of the popular languages that Data Scientists use are:\n",
    "1. Python\n",
    "2. SQL\n",
    "3. R\n",
    "4. Javascript"
   ]
  },
  {
   "cell_type": "markdown",
   "id": "f96e79a3-245c-42db-a57a-b8b1eabcdf26",
   "metadata": {},
   "source": [
    "Some of the commonly used libraries used by Data Scientists include:\n",
    "1. Pandas\n",
    "2. Numpy\n",
    "3. Scipy\n",
    "4. Matplotlib\n",
    "5. TensorFlow"
   ]
  },
  {
   "cell_type": "markdown",
   "id": "3bc504fe-2620-40ae-8846-9b121462f81c",
   "metadata": {},
   "source": [
    "| Data Science Tools  | \n",
    "|---|\n",
    "| Git |\n",
    "| MySQL |\n",
    "| Spark |"
   ]
  },
  {
   "cell_type": "markdown",
   "id": "693bfe25-1940-4b67-b232-22eb2ae0fc8c",
   "metadata": {},
   "source": [
    "<h3>Below are a few examples of evaluating arithmetic expressions in Python"
   ]
  },
  {
   "cell_type": "code",
   "execution_count": 2,
   "id": "9da905e9-edfd-4195-b8be-1132def23974",
   "metadata": {},
   "outputs": [
    {
     "data": {
      "text/plain": [
       "17"
      ]
     },
     "execution_count": 2,
     "metadata": {},
     "output_type": "execute_result"
    }
   ],
   "source": [
    "#This a simple arithmetic expression to mutiply then add integers\n",
    "(3*4)+5"
   ]
  },
  {
   "cell_type": "code",
   "execution_count": 1,
   "id": "8d0f3057-fdff-49dc-8a95-5b67f2e777cb",
   "metadata": {},
   "outputs": [
    {
     "data": {
      "text/plain": [
       "3.3333333333333335"
      ]
     },
     "execution_count": 1,
     "metadata": {},
     "output_type": "execute_result"
    }
   ],
   "source": [
    "#This will convert 200 minutes to hours by diving by 60\n",
    "hrs = 200/60\n",
    "hrs"
   ]
  },
  {
   "cell_type": "markdown",
   "id": "bb339549-d154-46ce-be34-1fe6e92893fd",
   "metadata": {},
   "source": [
    "## Author\n",
    "Andrew chia"
   ]
  },
  {
   "cell_type": "code",
   "execution_count": null,
   "id": "ed741cd4-9fe5-473f-9947-6cd78b3f0969",
   "metadata": {},
   "outputs": [],
   "source": []
  }
 ],
 "metadata": {
  "kernelspec": {
   "display_name": "Python",
   "language": "python",
   "name": "conda-env-python-py"
  },
  "language_info": {
   "codemirror_mode": {
    "name": "ipython",
    "version": 3
   },
   "file_extension": ".py",
   "mimetype": "text/x-python",
   "name": "python",
   "nbconvert_exporter": "python",
   "pygments_lexer": "ipython3",
   "version": "3.7.12"
  }
 },
 "nbformat": 4,
 "nbformat_minor": 5
}
